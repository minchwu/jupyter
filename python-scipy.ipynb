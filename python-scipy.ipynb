{
 "cells": [
  {
   "cell_type": "code",
   "execution_count": 1,
   "metadata": {},
   "outputs": [],
   "source": [
    "import numpy as np\n",
    "import scipy as sp"
   ]
  },
  {
   "cell_type": "code",
   "execution_count": 2,
   "metadata": {
    "scrolled": true
   },
   "outputs": [
    {
     "name": "stdout",
     "output_type": "stream",
     "text": [
      "Num: 1,   your order is 6\n",
      "Num: 2,   your order is 4\n",
      "Num: 3,   your order is 5\n",
      "Num: 4,   your order is 10\n",
      "Num: 5,   your order is 2\n",
      "Num: 6,   your order is 3\n",
      "Num: 7,   your order is 9\n",
      "Num: 8,   your order is 1\n",
      "Num: 9,   your order is 8\n",
      "Num: 10,   your order is 7\n"
     ]
    }
   ],
   "source": [
    "def draw(N: int):\n",
    "    \"\"\"draw.\n",
    "    \n",
    "    抽签函数，对N成员序列重新排序\n",
    "    \"\"\"\n",
    "    List = list(range(1, N+1))\n",
    "    while len(List)>0:\n",
    "        choice = List[np.random.randint(len(List))]\n",
    "        yield(\"Num: {0},   your order is {1}\".format(N - len(List) + 1, choice))\n",
    "        List.remove(choice)\n",
    "\n",
    "N = 10\n",
    "ch = draw(N)\n",
    "try:\n",
    "    for i in range(N):\n",
    "    \n",
    "        print(next(ch))\n",
    "except StopIteration:\n",
    "    print(\"your draw may be small for your choice\")"
   ]
  },
  {
   "cell_type": "code",
   "execution_count": null,
   "metadata": {},
   "outputs": [],
   "source": []
  }
 ],
 "metadata": {
  "kernelspec": {
   "display_name": "Python 3",
   "language": "python",
   "name": "python3"
  },
  "language_info": {
   "codemirror_mode": {
    "name": "ipython",
    "version": 3
   },
   "file_extension": ".py",
   "mimetype": "text/x-python",
   "name": "python",
   "nbconvert_exporter": "python",
   "pygments_lexer": "ipython3",
   "version": "3.7.5"
  },
  "varInspector": {
   "cols": {
    "lenName": 16,
    "lenType": 16,
    "lenVar": 40
   },
   "kernels_config": {
    "python": {
     "delete_cmd_postfix": "",
     "delete_cmd_prefix": "del ",
     "library": "var_list.py",
     "varRefreshCmd": "print(var_dic_list())"
    },
    "r": {
     "delete_cmd_postfix": ") ",
     "delete_cmd_prefix": "rm(",
     "library": "var_list.r",
     "varRefreshCmd": "cat(var_dic_list()) "
    }
   },
   "types_to_exclude": [
    "module",
    "function",
    "builtin_function_or_method",
    "instance",
    "_Feature"
   ],
   "window_display": false
  }
 },
 "nbformat": 4,
 "nbformat_minor": 4
}
