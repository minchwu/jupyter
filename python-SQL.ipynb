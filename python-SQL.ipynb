{
 "cells": [
  {
   "cell_type": "code",
   "execution_count": 1,
   "metadata": {
    "ExecuteTime": {
     "end_time": "2020-08-24T15:02:12.793719Z",
     "start_time": "2020-08-24T15:02:12.764798Z"
    }
   },
   "outputs": [],
   "source": [
    "import psycopg2"
   ]
  },
  {
   "cell_type": "code",
   "execution_count": 2,
   "metadata": {
    "ExecuteTime": {
     "end_time": "2020-08-24T15:02:12.953333Z",
     "start_time": "2020-08-24T15:02:12.797709Z"
    }
   },
   "outputs": [],
   "source": [
    "conn = psycopg2.connect(database='mathsql', user='minch', password='Wu12260917', host='localhost', port='5432')\n",
    "cursor = conn.cursor()"
   ]
  },
  {
   "cell_type": "code",
   "execution_count": 3,
   "metadata": {
    "ExecuteTime": {
     "end_time": "2020-08-24T15:02:12.969282Z",
     "start_time": "2020-08-24T15:02:12.955315Z"
    }
   },
   "outputs": [],
   "source": [
    "# try:\n",
    "#     cursor.execute(\"create table math1(ID char, Grade integer, primary key(ID));\")\n",
    "# except BaseException as E:\n",
    "#     print(E)\n",
    "\n",
    "cursor.execute(\"insert into public.math1 values('5',100),('6',99);\")"
   ]
  },
  {
   "cell_type": "code",
   "execution_count": 4,
   "metadata": {
    "ExecuteTime": {
     "end_time": "2020-08-24T15:02:12.984210Z",
     "start_time": "2020-08-24T15:02:12.971251Z"
    }
   },
   "outputs": [],
   "source": [
    "conn.commit()\n",
    "\n",
    "cursor.close()\n",
    "conn.close()"
   ]
  },
  {
   "cell_type": "code",
   "execution_count": 1,
   "metadata": {
    "ExecuteTime": {
     "end_time": "2020-08-27T01:13:26.529556Z",
     "start_time": "2020-08-27T01:13:26.519582Z"
    }
   },
   "outputs": [],
   "source": [
    "import sqlite3"
   ]
  },
  {
   "cell_type": "code",
   "execution_count": 2,
   "metadata": {
    "ExecuteTime": {
     "end_time": "2020-08-27T01:16:00.848372Z",
     "start_time": "2020-08-27T01:16:00.831417Z"
    }
   },
   "outputs": [],
   "source": [
    "conn = sqlite3.connect('./data/data1.db')"
   ]
  },
  {
   "cell_type": "code",
   "execution_count": 3,
   "metadata": {
    "ExecuteTime": {
     "end_time": "2020-08-27T01:22:03.766162Z",
     "start_time": "2020-08-27T01:22:03.754234Z"
    }
   },
   "outputs": [],
   "source": [
    "cursor = conn.cursor()"
   ]
  },
  {
   "cell_type": "code",
   "execution_count": 4,
   "metadata": {
    "ExecuteTime": {
     "end_time": "2020-08-27T01:25:04.610846Z",
     "start_time": "2020-08-27T01:25:04.444268Z"
    }
   },
   "outputs": [
    {
     "data": {
      "text/plain": [
       "<sqlite3.Cursor at 0x19f21885810>"
      ]
     },
     "execution_count": 4,
     "metadata": {},
     "output_type": "execute_result"
    }
   ],
   "source": [
    "create_sql = \"\"\"CREATE TABLE COMPANY(ID INT PRIMARY KEY     NOT NULL,\n",
    "                                     NAME           TEXT    NOT NULL,\n",
    "                                     AGE            INT     NOT NULL,\n",
    "                                     ADDRESS        CHAR(50),\n",
    "                                     SALARY         REAL);\"\"\"\n",
    "cursor.execute(create_sql)"
   ]
  },
  {
   "cell_type": "code",
   "execution_count": 5,
   "metadata": {
    "ExecuteTime": {
     "end_time": "2020-08-27T01:25:37.201151Z",
     "start_time": "2020-08-27T01:25:37.183176Z"
    }
   },
   "outputs": [],
   "source": [
    "conn.commit()\n",
    "cursor.close()\n",
    "conn.close()"
   ]
  }
 ],
 "metadata": {
  "hide_input": false,
  "kernelspec": {
   "display_name": "Python 3",
   "language": "python",
   "name": "python3"
  },
  "language_info": {
   "codemirror_mode": {
    "name": "ipython",
    "version": 3
   },
   "file_extension": ".py",
   "mimetype": "text/x-python",
   "name": "python",
   "nbconvert_exporter": "python",
   "pygments_lexer": "ipython3",
   "version": "3.8.4"
  },
  "toc": {
   "base_numbering": 1,
   "nav_menu": {},
   "number_sections": true,
   "sideBar": true,
   "skip_h1_title": false,
   "title_cell": "Table of Contents",
   "title_sidebar": "Contents",
   "toc_cell": false,
   "toc_position": {},
   "toc_section_display": true,
   "toc_window_display": false
  },
  "varInspector": {
   "cols": {
    "lenName": 16,
    "lenType": 16,
    "lenVar": 40
   },
   "kernels_config": {
    "python": {
     "delete_cmd_postfix": "",
     "delete_cmd_prefix": "del ",
     "library": "var_list.py",
     "varRefreshCmd": "print(var_dic_list())"
    },
    "r": {
     "delete_cmd_postfix": ") ",
     "delete_cmd_prefix": "rm(",
     "library": "var_list.r",
     "varRefreshCmd": "cat(var_dic_list()) "
    }
   },
   "types_to_exclude": [
    "module",
    "function",
    "builtin_function_or_method",
    "instance",
    "_Feature"
   ],
   "window_display": false
  }
 },
 "nbformat": 4,
 "nbformat_minor": 4
}
