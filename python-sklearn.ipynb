{
 "cells": [
  {
   "cell_type": "code",
   "execution_count": 1,
   "metadata": {
    "ExecuteTime": {
     "end_time": "2020-07-26T09:03:32.227538Z",
     "start_time": "2020-07-26T09:03:31.543786Z"
    }
   },
   "outputs": [],
   "source": [
    "import numpy as np\n",
    "import sklearn\n",
    "from sklearn.datasets import load_iris\n",
    "from sklearn.model_selection import train_test_split\n",
    "from sklearn.feature_extraction import DictVectorizer\n",
    "from sklearn.feature_extraction.text import CountVectorizer"
   ]
  },
  {
   "cell_type": "code",
   "execution_count": 2,
   "metadata": {
    "ExecuteTime": {
     "end_time": "2020-07-26T09:03:32.242716Z",
     "start_time": "2020-07-26T09:03:32.230748Z"
    }
   },
   "outputs": [],
   "source": [
    "def split_demo():\n",
    "    iris = load_iris()\n",
    "    x1, y1, x2, y2 = train_test_split(iris.data, iris.target)\n",
    "    for each in [x1,x2,y1,y2]:\n",
    "        print(each.shape)\n",
    "# split_demo()"
   ]
  },
  {
   "cell_type": "code",
   "execution_count": 3,
   "metadata": {
    "ExecuteTime": {
     "end_time": "2020-07-26T09:03:32.258672Z",
     "start_time": "2020-07-26T09:03:32.245732Z"
    }
   },
   "outputs": [],
   "source": [
    "def transfer_demo():\n",
    "    data = [{\"city\": \"北京\", \"temperature\": 100},\n",
    "            {\"city\": \"上海\", \"temperature\": 60},\n",
    "            {\"city\": \"深圳\", \"temperature\": 36}]\n",
    "    transfer = DictVectorizer()\n",
    "    data_new = transfer.fit_transform(data)\n",
    "    print(data_new)\n",
    "# transfer_demo()"
   ]
  },
  {
   "cell_type": "code",
   "execution_count": 1,
   "metadata": {
    "ExecuteTime": {
     "end_time": "2020-07-30T10:23:33.359086Z",
     "start_time": "2020-07-30T10:23:32.140317Z"
    }
   },
   "outputs": [],
   "source": [
    "import torch "
   ]
  },
  {
   "cell_type": "code",
   "execution_count": 2,
   "metadata": {
    "ExecuteTime": {
     "end_time": "2020-07-30T10:23:49.739361Z",
     "start_time": "2020-07-30T10:23:48.899568Z"
    }
   },
   "outputs": [
    {
     "data": {
      "text/plain": [
       "True"
      ]
     },
     "execution_count": 2,
     "metadata": {},
     "output_type": "execute_result"
    }
   ],
   "source": [
    "torch.cuda.is_available()"
   ]
  },
  {
   "cell_type": "code",
   "execution_count": 3,
   "metadata": {
    "ExecuteTime": {
     "end_time": "2020-07-30T10:24:18.827701Z",
     "start_time": "2020-07-30T10:24:18.813711Z"
    }
   },
   "outputs": [
    {
     "data": {
      "text/plain": [
       "tensor([[0.8277, 0.4873, 0.7662],\n",
       "        [0.5163, 0.2436, 0.9393],\n",
       "        [0.0163, 0.7689, 0.1476],\n",
       "        [0.7809, 0.6895, 0.8836],\n",
       "        [0.3236, 0.9627, 0.9867]])"
      ]
     },
     "execution_count": 3,
     "metadata": {},
     "output_type": "execute_result"
    }
   ],
   "source": [
    "torch.rand(5,3)"
   ]
  }
 ],
 "metadata": {
  "hide_input": false,
  "kernelspec": {
   "display_name": "Python 3",
   "language": "python",
   "name": "python3"
  },
  "language_info": {
   "codemirror_mode": {
    "name": "ipython",
    "version": 3
   },
   "file_extension": ".py",
   "mimetype": "text/x-python",
   "name": "python",
   "nbconvert_exporter": "python",
   "pygments_lexer": "ipython3",
   "version": "3.8.4"
  },
  "toc": {
   "base_numbering": 1,
   "nav_menu": {},
   "number_sections": true,
   "sideBar": true,
   "skip_h1_title": false,
   "title_cell": "Table of Contents",
   "title_sidebar": "Contents",
   "toc_cell": false,
   "toc_position": {},
   "toc_section_display": true,
   "toc_window_display": false
  },
  "varInspector": {
   "cols": {
    "lenName": 16,
    "lenType": 16,
    "lenVar": 40
   },
   "kernels_config": {
    "python": {
     "delete_cmd_postfix": "",
     "delete_cmd_prefix": "del ",
     "library": "var_list.py",
     "varRefreshCmd": "print(var_dic_list())"
    },
    "r": {
     "delete_cmd_postfix": ") ",
     "delete_cmd_prefix": "rm(",
     "library": "var_list.r",
     "varRefreshCmd": "cat(var_dic_list()) "
    }
   },
   "types_to_exclude": [
    "module",
    "function",
    "builtin_function_or_method",
    "instance",
    "_Feature"
   ],
   "window_display": false
  }
 },
 "nbformat": 4,
 "nbformat_minor": 2
}
