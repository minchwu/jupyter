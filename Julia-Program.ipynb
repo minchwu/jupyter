{
 "cells": [
  {
   "cell_type": "markdown",
   "metadata": {},
   "source": [
    "# Julia Prog"
   ]
  },
  {
   "cell_type": "markdown",
   "metadata": {},
   "source": [
    "## Julia 变量"
   ]
  },
  {
   "cell_type": "code",
   "execution_count": 1,
   "metadata": {
    "ExecuteTime": {
     "end_time": "2020-08-13T13:01:32.625000+08:00",
     "start_time": "2020-08-13T05:01:29.713Z"
    }
   },
   "outputs": [
    {
     "data": {
      "text/plain": [
       "π = 3.1415926535897..."
      ]
     },
     "execution_count": 1,
     "metadata": {},
     "output_type": "execute_result"
    }
   ],
   "source": [
    "x = 1\n",
    "x = \"Hello World\"\n",
    "x = 1.0\n",
    "x = \"生而自由\"\n",
    "x = \"δ\"\n",
    "x = π"
   ]
  },
  {
   "cell_type": "markdown",
   "metadata": {},
   "source": [
    "## 类型"
   ]
  },
  {
   "cell_type": "code",
   "execution_count": 2,
   "metadata": {
    "ExecuteTime": {
     "end_time": "2020-08-13T13:01:33.209000+08:00",
     "start_time": "2020-08-13T05:01:29.730Z"
    }
   },
   "outputs": [
    {
     "data": {
      "text/plain": [
       "(-9223372036854775808, 2147483647, Float64)"
      ]
     },
     "execution_count": 2,
     "metadata": {},
     "output_type": "execute_result"
    }
   ],
   "source": [
    "(typemin(Int), typemax(Int32), typeof(0x1p0))"
   ]
  },
  {
   "cell_type": "code",
   "execution_count": 3,
   "metadata": {
    "ExecuteTime": {
     "end_time": "2020-08-13T13:01:33.646000+08:00",
     "start_time": "2020-08-13T05:01:29.732Z"
    }
   },
   "outputs": [
    {
     "data": {
      "text/plain": [
       "(true, \"0000000000000000000000000000000000000000000000000000000000000000\", \"1000000000000000000000000000000000000000000000000000000000000000\")"
      ]
     },
     "execution_count": 3,
     "metadata": {},
     "output_type": "execute_result"
    }
   ],
   "source": [
    "(0.0 == -0.0, bitstring(0.0), bitstring(-0.0))"
   ]
  },
  {
   "cell_type": "code",
   "execution_count": 4,
   "metadata": {
    "ExecuteTime": {
     "end_time": "2020-08-13T13:01:34.141000+08:00",
     "start_time": "2020-08-13T05:01:29.736Z"
    }
   },
   "outputs": [
    {
     "data": {
      "text/plain": [
       "(Inf, -Inf, NaN, true, false)"
      ]
     },
     "execution_count": 4,
     "metadata": {},
     "output_type": "execute_result"
    }
   ],
   "source": [
    "(1/0, -1/0, 0/0, Inf == 1+Inf, NaN > NaN)"
   ]
  },
  {
   "cell_type": "code",
   "execution_count": 5,
   "metadata": {
    "ExecuteTime": {
     "end_time": "2020-08-13T13:01:35.426000+08:00",
     "start_time": "2020-08-13T05:01:29.738Z"
    }
   },
   "outputs": [
    {
     "data": {
      "text/plain": [
       "(1.2500001f0, 1.2500001f0, 9223372036854775808)"
      ]
     },
     "execution_count": 5,
     "metadata": {},
     "output_type": "execute_result"
    }
   ],
   "source": [
    "x = 1.25f0\n",
    "(nextfloat(x), x + eps(x), BigInt(typemax(Int64)) + 1)"
   ]
  },
  {
   "cell_type": "markdown",
   "metadata": {},
   "source": [
    "## 运算符"
   ]
  },
  {
   "cell_type": "code",
   "execution_count": 6,
   "metadata": {
    "ExecuteTime": {
     "end_time": "2020-08-13T13:01:35.928000+08:00",
     "start_time": "2020-08-13T05:01:29.754Z"
    }
   },
   "outputs": [
    {
     "data": {
      "text/plain": [
       "(2//3, 0.6666666666666666, 2)"
      ]
     },
     "execution_count": 6,
     "metadata": {},
     "output_type": "execute_result"
    }
   ],
   "source": [
    "x = 2.0\n",
    "x ^= 2\n",
    "(2//3, 2/3, 2%3)"
   ]
  },
  {
   "cell_type": "code",
   "execution_count": 7,
   "metadata": {
    "ExecuteTime": {
     "end_time": "2020-08-13T13:01:36.382000+08:00",
     "start_time": "2020-08-13T05:01:29.756Z"
    }
   },
   "outputs": [
    {
     "data": {
      "text/plain": [
       "my_fact"
      ]
     },
     "execution_count": 7,
     "metadata": {},
     "output_type": "execute_result"
    }
   ],
   "source": [
    "\"斐波那契数列\"\n",
    "function my_fact(n::BigInt)\n",
    "    n >=0 || error(\"n must be non-negative\")\n",
    "    n == 0 && return 1\n",
    "    n * factorial(n - 1)\n",
    "end"
   ]
  },
  {
   "cell_type": "code",
   "execution_count": 11,
   "metadata": {
    "ExecuteTime": {
     "end_time": "2020-08-13T13:02:43.044000+08:00",
     "start_time": "2020-08-13T05:02:42.881Z"
    }
   },
   "outputs": [
    {
     "ename": "ErrorException",
     "evalue": "n must be non-negative",
     "output_type": "error",
     "traceback": [
      "n must be non-negative",
      "",
      "Stacktrace:",
      " [1] error(::String) at .\\error.jl:33",
      " [2] my_fact(::BigInt) at .\\In[7]:3",
      " [3] top-level scope at In[11]:1"
     ]
    }
   ],
   "source": [
    "my_fact(big(-1))"
   ]
  }
 ],
 "metadata": {
  "hide_input": false,
  "kernelspec": {
   "display_name": "Julia 1.4.2",
   "language": "julia",
   "name": "julia-1.4"
  },
  "language_info": {
   "file_extension": ".jl",
   "mimetype": "application/julia",
   "name": "julia",
   "version": "1.4.2"
  },
  "toc": {
   "base_numbering": 1,
   "nav_menu": {},
   "number_sections": true,
   "sideBar": true,
   "skip_h1_title": false,
   "title_cell": "Table of Contents",
   "title_sidebar": "Contents",
   "toc_cell": false,
   "toc_position": {},
   "toc_section_display": true,
   "toc_window_display": false
  },
  "varInspector": {
   "cols": {
    "lenName": 16,
    "lenType": 16,
    "lenVar": 40
   },
   "kernels_config": {
    "python": {
     "delete_cmd_postfix": "",
     "delete_cmd_prefix": "del ",
     "library": "var_list.py",
     "varRefreshCmd": "print(var_dic_list())"
    },
    "r": {
     "delete_cmd_postfix": ") ",
     "delete_cmd_prefix": "rm(",
     "library": "var_list.r",
     "varRefreshCmd": "cat(var_dic_list()) "
    }
   },
   "types_to_exclude": [
    "module",
    "function",
    "builtin_function_or_method",
    "instance",
    "_Feature"
   ],
   "window_display": false
  }
 },
 "nbformat": 4,
 "nbformat_minor": 4
}
