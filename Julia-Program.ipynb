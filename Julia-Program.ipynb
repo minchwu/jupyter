{
 "cells": [
  {
   "cell_type": "markdown",
   "metadata": {},
   "source": [
    "# Julia Prog"
   ]
  },
  {
   "cell_type": "markdown",
   "metadata": {},
   "source": [
    "## Julia 变量"
   ]
  },
  {
   "cell_type": "code",
   "execution_count": 1,
   "metadata": {
    "ExecuteTime": {
     "end_time": "2020-10-18T23:14:38.298000+08:00",
     "start_time": "2020-10-18T15:14:36.736Z"
    }
   },
   "outputs": [
    {
     "data": {
      "text/plain": [
       "π = 3.1415926535897..."
      ]
     },
     "execution_count": 1,
     "metadata": {},
     "output_type": "execute_result"
    }
   ],
   "source": [
    "x = 1\n",
    "x = \"Hello World\"\n",
    "x = 1.0\n",
    "x = \"生而自由\"\n",
    "x = \"δ\"\n",
    "x = π"
   ]
  },
  {
   "cell_type": "markdown",
   "metadata": {},
   "source": [
    "## 类型"
   ]
  },
  {
   "cell_type": "code",
   "execution_count": 2,
   "metadata": {
    "ExecuteTime": {
     "end_time": "2020-10-18T23:14:38.747000+08:00",
     "start_time": "2020-10-18T15:14:36.749Z"
    }
   },
   "outputs": [
    {
     "data": {
      "text/plain": [
       "(-9223372036854775808, 2147483647, Float64)"
      ]
     },
     "execution_count": 2,
     "metadata": {},
     "output_type": "execute_result"
    }
   ],
   "source": [
    "(typemin(Int), typemax(Int32), typeof(0x1p0))"
   ]
  },
  {
   "cell_type": "code",
   "execution_count": 3,
   "metadata": {
    "ExecuteTime": {
     "end_time": "2020-10-18T23:14:39.213000+08:00",
     "start_time": "2020-10-18T15:14:36.751Z"
    }
   },
   "outputs": [
    {
     "data": {
      "text/plain": [
       "(true, \"0000000000000000000000000000000000000000000000000000000000000000\", \"1000000000000000000000000000000000000000000000000000000000000000\")"
      ]
     },
     "execution_count": 3,
     "metadata": {},
     "output_type": "execute_result"
    }
   ],
   "source": [
    "(0.0 == -0.0, bitstring(0.0), bitstring(-0.0))"
   ]
  },
  {
   "cell_type": "code",
   "execution_count": 4,
   "metadata": {
    "ExecuteTime": {
     "end_time": "2020-10-18T23:14:39.578000+08:00",
     "start_time": "2020-10-18T15:14:36.752Z"
    }
   },
   "outputs": [
    {
     "data": {
      "text/plain": [
       "(Inf, -Inf, NaN, true, false)"
      ]
     },
     "execution_count": 4,
     "metadata": {},
     "output_type": "execute_result"
    }
   ],
   "source": [
    "(1/0, -1/0, 0/0, Inf == 1+Inf, NaN > NaN)"
   ]
  },
  {
   "cell_type": "code",
   "execution_count": 5,
   "metadata": {
    "ExecuteTime": {
     "end_time": "2020-10-18T23:14:40.610000+08:00",
     "start_time": "2020-10-18T15:14:36.753Z"
    }
   },
   "outputs": [
    {
     "data": {
      "text/plain": [
       "(1.2500001f0, 1.2500001f0, 9223372036854775808)"
      ]
     },
     "execution_count": 5,
     "metadata": {},
     "output_type": "execute_result"
    }
   ],
   "source": [
    "x = 1.25f0\n",
    "(nextfloat(x), x + eps(x), BigInt(typemax(Int64)) + 1)"
   ]
  },
  {
   "cell_type": "markdown",
   "metadata": {},
   "source": [
    "## 运算符"
   ]
  },
  {
   "cell_type": "code",
   "execution_count": 6,
   "metadata": {
    "ExecuteTime": {
     "end_time": "2020-10-18T23:14:41.040000+08:00",
     "start_time": "2020-10-18T15:14:36.762Z"
    }
   },
   "outputs": [
    {
     "data": {
      "text/plain": [
       "(2//3, 0.6666666666666666, 2)"
      ]
     },
     "execution_count": 6,
     "metadata": {},
     "output_type": "execute_result"
    }
   ],
   "source": [
    "x = 2.0\n",
    "x ^= 2\n",
    "(2//3, 2/3, 2%3)"
   ]
  },
  {
   "cell_type": "code",
   "execution_count": 7,
   "metadata": {
    "ExecuteTime": {
     "end_time": "2020-10-18T23:14:41.358000+08:00",
     "start_time": "2020-10-18T15:14:36.763Z"
    }
   },
   "outputs": [
    {
     "data": {
      "text/plain": [
       "my_fact"
      ]
     },
     "execution_count": 7,
     "metadata": {},
     "output_type": "execute_result"
    }
   ],
   "source": [
    "\"斐波那契数列\"\n",
    "function my_fact(n::BigInt)\n",
    "    n >=0 || error(\"n must be non-negative\")\n",
    "    n == 0 && return 1\n",
    "    n * factorial(n - 1)\n",
    "end"
   ]
  },
  {
   "cell_type": "code",
   "execution_count": 8,
   "metadata": {
    "ExecuteTime": {
     "end_time": "2020-10-18T23:14:41.734000+08:00",
     "start_time": "2020-10-18T15:14:36.764Z"
    }
   },
   "outputs": [
    {
     "ename": "LoadError",
     "evalue": "n must be non-negative",
     "output_type": "error",
     "traceback": [
      "n must be non-negative",
      "",
      "Stacktrace:",
      " [1] error(::String) at .\\error.jl:33",
      " [2] my_fact(::BigInt) at .\\In[7]:3",
      " [3] top-level scope at In[8]:1",
      " [4] include_string(::Function, ::Module, ::String, ::String) at .\\loading.jl:1091",
      " [5] execute_code(::String, ::String) at C:\\Users\\Minch\\.julia\\packages\\IJulia\\rWZ9e\\src\\execute_request.jl:27",
      " [6] execute_request(::ZMQ.Socket, ::IJulia.Msg) at C:\\Users\\Minch\\.julia\\packages\\IJulia\\rWZ9e\\src\\execute_request.jl:86",
      " [7] #invokelatest#1 at .\\essentials.jl:710 [inlined]",
      " [8] invokelatest at .\\essentials.jl:709 [inlined]",
      " [9] eventloop(::ZMQ.Socket) at C:\\Users\\Minch\\.julia\\packages\\IJulia\\rWZ9e\\src\\eventloop.jl:8",
      " [10] (::IJulia.var\"#15#18\")() at .\\task.jl:356"
     ]
    }
   ],
   "source": [
    "my_fact(big(-1))"
   ]
  },
  {
   "cell_type": "code",
   "execution_count": 9,
   "metadata": {
    "ExecuteTime": {
     "end_time": "2020-10-18T23:14:41.736000+08:00",
     "start_time": "2020-10-18T15:14:36.766Z"
    }
   },
   "outputs": [
    {
     "data": {
      "text/plain": [
       "my_print"
      ]
     },
     "execution_count": 9,
     "metadata": {},
     "output_type": "execute_result"
    }
   ],
   "source": [
    "\"my_print\n",
    "\n",
    "this is a description of the func\"\n",
    "function my_print(that::String)\n",
    "    println(\"what is $that\")\n",
    "end"
   ]
  },
  {
   "cell_type": "code",
   "execution_count": 10,
   "metadata": {
    "ExecuteTime": {
     "end_time": "2020-10-18T23:14:42.574000+08:00",
     "start_time": "2020-10-18T15:14:36.767Z"
    }
   },
   "outputs": [
    {
     "name": "stdout",
     "output_type": "stream",
     "text": [
      "search: \u001b[0m\u001b[1mm\u001b[22m\u001b[0m\u001b[1my\u001b[22m\u001b[0m\u001b[1m_\u001b[22m\u001b[0m\u001b[1mp\u001b[22m\u001b[0m\u001b[1mr\u001b[22m\u001b[0m\u001b[1mi\u001b[22m\u001b[0m\u001b[1mn\u001b[22m\u001b[0m\u001b[1mt\u001b[22m\n",
      "\n"
     ]
    },
    {
     "data": {
      "text/latex": [
       "my\\_print\n",
       "\n",
       "this is a description of the func\n",
       "\n"
      ],
      "text/markdown": [
       "my_print\n",
       "\n",
       "this is a description of the func\n"
      ],
      "text/plain": [
       "  my_print\n",
       "\n",
       "  this is a description of the func"
      ]
     },
     "execution_count": 10,
     "metadata": {},
     "output_type": "execute_result"
    }
   ],
   "source": [
    "?my_print"
   ]
  },
  {
   "cell_type": "code",
   "execution_count": null,
   "metadata": {},
   "outputs": [],
   "source": []
  }
 ],
 "metadata": {
  "hide_input": false,
  "kernelspec": {
   "display_name": "Julia 1.5",
   "language": "julia",
   "name": "julia-1.5"
  },
  "language_info": {
   "file_extension": ".jl",
   "mimetype": "application/julia",
   "name": "julia",
   "version": "1.5.2"
  },
  "toc": {
   "base_numbering": 1,
   "nav_menu": {},
   "number_sections": true,
   "sideBar": true,
   "skip_h1_title": false,
   "title_cell": "Table of Contents",
   "title_sidebar": "Contents",
   "toc_cell": false,
   "toc_position": {},
   "toc_section_display": true,
   "toc_window_display": false
  },
  "varInspector": {
   "cols": {
    "lenName": 16,
    "lenType": 16,
    "lenVar": 40
   },
   "kernels_config": {
    "python": {
     "delete_cmd_postfix": "",
     "delete_cmd_prefix": "del ",
     "library": "var_list.py",
     "varRefreshCmd": "print(var_dic_list())"
    },
    "r": {
     "delete_cmd_postfix": ") ",
     "delete_cmd_prefix": "rm(",
     "library": "var_list.r",
     "varRefreshCmd": "cat(var_dic_list()) "
    }
   },
   "types_to_exclude": [
    "module",
    "function",
    "builtin_function_or_method",
    "instance",
    "_Feature"
   ],
   "window_display": false
  }
 },
 "nbformat": 4,
 "nbformat_minor": 4
}
