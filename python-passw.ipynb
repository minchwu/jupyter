{
 "cells": [
  {
   "cell_type": "markdown",
   "metadata": {},
   "source": [
    "# 十六进制简单转换"
   ]
  },
  {
   "cell_type": "code",
   "execution_count": 1,
   "metadata": {
    "ExecuteTime": {
     "end_time": "2020-11-07T14:29:10.771362Z",
     "start_time": "2020-11-07T14:29:10.765369Z"
    }
   },
   "outputs": [],
   "source": [
    "import binascii"
   ]
  },
  {
   "cell_type": "code",
   "execution_count": 2,
   "metadata": {
    "ExecuteTime": {
     "end_time": "2020-11-07T14:29:10.787329Z",
     "start_time": "2020-11-07T14:29:10.774346Z"
    }
   },
   "outputs": [
    {
     "data": {
      "text/plain": [
       "b'426c616e6b2077697468206e6f20737061636521200a4e6f206f6e652062757420796f752c206d79206c6f7665722c2068617320676f6e652e200a48656172742062726f6b656e2e20486f77657665722c200a6e6f7468696e67206973206265696e672c200a616c6f6e65206973206576657220616e6420666f726576657221'"
      ]
     },
     "execution_count": 2,
     "metadata": {},
     "output_type": "execute_result"
    }
   ],
   "source": [
    "str_pw = \"\"\"Blank with no space! \n",
    "No one but you, my lover, has gone. \n",
    "Heart broken. However, \n",
    "nothing is being, \n",
    "alone is ever and forever!\"\"\".encode()\n",
    "tmp = binascii.b2a_hex(str_pw)\n",
    "# tmp = binascii.a2b_hex(tmp)\n",
    "tmp"
   ]
  }
 ],
 "metadata": {
  "kernelspec": {
   "display_name": "Python 3",
   "language": "python",
   "name": "python3"
  },
  "language_info": {
   "codemirror_mode": {
    "name": "ipython",
    "version": 3
   },
   "file_extension": ".py",
   "mimetype": "text/x-python",
   "name": "python",
   "nbconvert_exporter": "python",
   "pygments_lexer": "ipython3",
   "version": "3.8.6"
  }
 },
 "nbformat": 4,
 "nbformat_minor": 4
}
