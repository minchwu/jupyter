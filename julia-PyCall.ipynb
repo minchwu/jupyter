{
 "cells": [
  {
   "cell_type": "code",
   "execution_count": 1,
   "metadata": {},
   "outputs": [],
   "source": [
    "using PyCall"
   ]
  },
  {
   "cell_type": "markdown",
   "metadata": {},
   "source": [
    "# PyCall\n",
    "## 主调用函数 pyimport\n",
    "```julia\n",
    "re = pyimport(\"moudle\")\n",
    "```\n",
    "## Python 式执行\n",
    "```julia\n",
    "py\"\"\"...\"\"\" or py\"...\"\n",
    "```"
   ]
  },
  {
   "cell_type": "code",
   "execution_count": 2,
   "metadata": {},
   "outputs": [
    {
     "data": {
      "text/plain": [
       "1.0"
      ]
     },
     "execution_count": 2,
     "metadata": {},
     "output_type": "execute_result"
    }
   ],
   "source": [
    "py\"\"\"\n",
    "import numpy as np\n",
    "\n",
    "def resin(x):\n",
    "    return np.sin(np.pi * x)\n",
    "\"\"\"\n",
    "py\"resin(1/2)\"\n"
   ]
  },
  {
   "cell_type": "code",
   "execution_count": 3,
   "metadata": {
    "scrolled": true
   },
   "outputs": [
    {
     "data": {
      "text/plain": [
       "PyObject <module 'numpy' from 'C:\\\\Users\\\\Minch\\\\.julia\\\\conda\\\\3\\\\lib\\\\site-packages\\\\numpy\\\\__init__.py'>"
      ]
     },
     "execution_count": 3,
     "metadata": {},
     "output_type": "execute_result"
    }
   ],
   "source": [
    "np = pyimport(\"numpy\")"
   ]
  },
  {
   "cell_type": "code",
   "execution_count": 4,
   "metadata": {},
   "outputs": [
    {
     "data": {
      "text/plain": [
       "10×10 Array{Float64,2}:\n",
       " 1.06758e224   4.46812e-91   5.9815e-154   …  3.17096e180   7.66869e170\n",
       " 2.64522e185   5.22374e257   2.43813e-152     4.64557e164   1.66037e243\n",
       " 1.18032e243   7.50462e247   2.19527e-152     4.47594e-91   6.01347e-154\n",
       " 1.19311e190   1.42732e228   6.01347e-154     6.18738e223   1.38692e219\n",
       " 9.27171e199   2.46601e-154  7.6287e228       5.9813e-154   2.21209e214\n",
       " 2.4738e-91    1.186e-259    2.25564e-153  …  1.29702e-85   4.76995e180\n",
       " 1.94326e-57   1.87725e-9    6.01335e-154     7.36404e223   8.0418e-96\n",
       " 5.98148e-154  1.92437e-152  2.99489e262      5.76225e-114  2.48099e-91\n",
       " 3.84569e-86   1.00892e141   7.33953e223      6.13915e228   3.03838e180\n",
       " 6.01335e-154  1.35717e131   3.54003e-62      1.97645e166   4.42558e257"
      ]
     },
     "execution_count": 4,
     "metadata": {},
     "output_type": "execute_result"
    }
   ],
   "source": [
    "np.ndarray([10,10])"
   ]
  }
 ],
 "metadata": {
  "kernelspec": {
   "display_name": "Julia 1.4.1",
   "language": "julia",
   "name": "julia-1.4"
  },
  "language_info": {
   "file_extension": ".jl",
   "mimetype": "application/julia",
   "name": "julia",
   "version": "1.4.1"
  },
  "varInspector": {
   "cols": {
    "lenName": 16,
    "lenType": 16,
    "lenVar": 40
   },
   "kernels_config": {
    "python": {
     "delete_cmd_postfix": "",
     "delete_cmd_prefix": "del ",
     "library": "var_list.py",
     "varRefreshCmd": "print(var_dic_list())"
    },
    "r": {
     "delete_cmd_postfix": ") ",
     "delete_cmd_prefix": "rm(",
     "library": "var_list.r",
     "varRefreshCmd": "cat(var_dic_list()) "
    }
   },
   "types_to_exclude": [
    "module",
    "function",
    "builtin_function_or_method",
    "instance",
    "_Feature"
   ],
   "window_display": false
  }
 },
 "nbformat": 4,
 "nbformat_minor": 2
}
